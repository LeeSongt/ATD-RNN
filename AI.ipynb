{
 "cells": [
  {
   "cell_type": "code",
   "execution_count": 5,
   "metadata": {},
   "outputs": [],
   "source": [
    "%load_ext Cython"
   ]
  },
  {
   "cell_type": "code",
   "execution_count": 30,
   "metadata": {},
   "outputs": [],
   "source": [
    "%%cython\n",
    "\n",
    "from libc cimport math\n",
    "\n",
    "cdef double MIN_LON = -9 \n",
    "cdef double MAX_LON = -8 \n",
    "cdef double MIN_LAT = 41\n",
    "cdef double MAX_LAT = 42\n",
    "cdef int NUM_LONS = 840\n",
    "cdef int NUM_LATS = 1100\n",
    "cdef double PI = 3.1415926\n",
    "\n",
    "cdef double DELTA_LON = (MAX_LON - MIN_LON) / NUM_LONS\n",
    "cdef double DELTA_LAT = (MAX_LAT - MIN_LAT) / NUM_LATS\n",
    "\n",
    "def get_lon_lat(int area_id):\n",
    "    cdef int i = area_id // NUM_LONS\n",
    "    cdef int j = area_id % NUM_LONS\n",
    "    cdef double lon = j * DELTA_LON + MIN_LON\n",
    "    cdef double lat = i * DELTA_LAT + MIN_LAT\n",
    "    return (lon, lat)\n",
    "\n",
    "def rad(double d):\n",
    "    return d * PI / 180.0\n",
    "\n",
    "def get_distance(double lat1, double lon1, double lat2, double lon2):\n",
    "    cdef double radlat1 = rad(lat1)\n",
    "    cdef double radlat2 = rad(lat2)\n",
    "    cdef double a = radlat1 - radlat2\n",
    "    cdef double b = rad(lon1) - rad(lon2)\n",
    "    cdef double s = 2 * math.asin(math.sqrt(math.pow(math.sin(a/2), 2)\\\n",
    "                                  + math.cos(radlat1) * math.cos(radlat2) * math.pow(math.sin(b/2), 2)))\n",
    "    s = s * 6378.137\n",
    "    return s*10000 / 10000\n",
    "\n",
    "def get_distance_id(int id1, int id2):\n",
    "    cdef double lon1, lat1\n",
    "    cdef double lon2, lat2\n",
    "    lon1, lat1 = get_lon_lat(id1)\n",
    "    lon2, lat2 = get_lon_lat(id2)\n",
    "    dis = get_distance(lat1, lon1, lat2, lon2)\n",
    "    return dis\n",
    "\n",
    "def cal_distance_array(M):\n",
    "    distance_array = []\n",
    "    for i in range(len(M)):\n",
    "        for j in range(i, len(M)):\n",
    "            distance_array.append(get_distance_id(M[i], M[j]))\n",
    "    return distance_array\n",
    "\n",
    "def cal_denisty(M):\n",
    "    n = len(M)\n",
    "    distance\n",
    "    for i in range(n):\n",
    "        "
   ]
  },
  {
   "cell_type": "code",
   "execution_count": 32,
   "metadata": {},
   "outputs": [],
   "source": [
    "lines = open(\"./output data/Porto/rnnTrain2.txt\").readlines()\n",
    "MD = [list( map(int, line.split(\" \")[2:])) for line in lines]\n",
    "distance_array = cal_distance_array(MD[0])\n",
    "distance_array = distance_array.sort()\n",
    "M = len(distance_array)\n",
    "t = 0.02\n",
    "d_c = distance_array[int(M * t)]\n",
    "for i in "
   ]
  },
  {
   "cell_type": "code",
   "execution_count": null,
   "metadata": {},
   "outputs": [],
   "source": []
  }
 ],
 "metadata": {
  "kernelspec": {
   "display_name": "Python 3",
   "language": "python",
   "name": "python3"
  },
  "language_info": {
   "codemirror_mode": {
    "name": "ipython",
    "version": 3
   },
   "file_extension": ".py",
   "mimetype": "text/x-python",
   "name": "python",
   "nbconvert_exporter": "python",
   "pygments_lexer": "ipython3",
   "version": "3.6.5"
  }
 },
 "nbformat": 4,
 "nbformat_minor": 2
}
